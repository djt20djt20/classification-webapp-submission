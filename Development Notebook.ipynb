{
 "cells": [
  {
   "cell_type": "markdown",
   "metadata": {},
   "source": [
    "# Load Queries json"
   ]
  },
  {
   "cell_type": "code",
   "execution_count": 1,
   "metadata": {},
   "outputs": [],
   "source": [
    "import json\n",
    "\n",
    "data_filename = '../test_data/case_2.json'\n",
    "with open(data_filename) as file:\n",
    "    data = json.load(file)"
   ]
  },
  {
   "cell_type": "code",
   "execution_count": 2,
   "metadata": {},
   "outputs": [],
   "source": [
    "queries = [query['query'] for query in data['queries']]\n",
    "list_of_queries = [{'classes': data['classes'],\"options\": data['options'],'query':query} for query in queries]\n",
    "query_strings = [json.dumps(d) for d in list_of_queries]\n"
   ]
  },
  {
   "cell_type": "markdown",
   "metadata": {},
   "source": [
    "# Create Prompt"
   ]
  },
  {
   "cell_type": "markdown",
   "metadata": {},
   "source": [
    "# Workflow"
   ]
  },
  {
   "cell_type": "code",
   "execution_count": 5,
   "metadata": {},
   "outputs": [
    {
     "name": "stderr",
     "output_type": "stream",
     "text": [
      "2024-04-30 06:32:49.193 \n",
      "  \u001b[33m\u001b[1mWarning:\u001b[0m to view this Streamlit app on a browser, run it with the following\n",
      "  command:\n",
      "\n",
      "    streamlit run /home/vscode/.local/lib/python3.11/site-packages/ipykernel_launcher.py [ARGUMENTS]\n"
     ]
    },
    {
     "data": {
      "text/plain": [
       "{'error': 'Unexpected error occurred',\n",
       " 'details': 'No secrets files found. Valid paths for a secrets.toml file are: /home/vscode/.streamlit/secrets.toml, /workspaces/classification-webapp-submission/development/.streamlit/secrets.toml'}"
      ]
     },
     "execution_count": 5,
     "metadata": {},
     "output_type": "execute_result"
    }
   ],
   "source": [
    "from src import utility_functions \n",
    "utility_functions.process_request(query_strings[0])"
   ]
  },
  {
   "cell_type": "code",
   "execution_count": 4,
   "metadata": {},
   "outputs": [],
   "source": [
    "processed_queries  = list(map(utility_functions.process_request, query_strings))"
   ]
  },
  {
   "cell_type": "code",
   "execution_count": 3,
   "metadata": {},
   "outputs": [
    {
     "name": "stdout",
     "output_type": "stream",
     "text": [
      "Defaulting to user installation because normal site-packages is not writeable\n",
      "Requirement already satisfied: httpx in /home/vscode/.local/lib/python3.11/site-packages (0.27.0)\n",
      "Requirement already satisfied: anyio in /home/vscode/.local/lib/python3.11/site-packages (from httpx) (4.3.0)\n",
      "Requirement already satisfied: certifi in /home/vscode/.local/lib/python3.11/site-packages (from httpx) (2024.2.2)\n",
      "Requirement already satisfied: httpcore==1.* in /home/vscode/.local/lib/python3.11/site-packages (from httpx) (1.0.5)\n",
      "Requirement already satisfied: idna in /home/vscode/.local/lib/python3.11/site-packages (from httpx) (3.7)\n",
      "Requirement already satisfied: sniffio in /home/vscode/.local/lib/python3.11/site-packages (from httpx) (1.3.1)\n",
      "Requirement already satisfied: h11<0.15,>=0.13 in /home/vscode/.local/lib/python3.11/site-packages (from httpcore==1.*->httpx) (0.14.0)\n"
     ]
    }
   ],
   "source": [
    "!pip install httpx"
   ]
  },
  {
   "cell_type": "code",
   "execution_count": 5,
   "metadata": {},
   "outputs": [
    {
     "data": {
      "text/html": [
       "<div>\n",
       "<style scoped>\n",
       "    .dataframe tbody tr th:only-of-type {\n",
       "        vertical-align: middle;\n",
       "    }\n",
       "\n",
       "    .dataframe tbody tr th {\n",
       "        vertical-align: top;\n",
       "    }\n",
       "\n",
       "    .dataframe thead th {\n",
       "        text-align: right;\n",
       "    }\n",
       "</style>\n",
       "<table border=\"1\" class=\"dataframe\">\n",
       "  <thead>\n",
       "    <tr style=\"text-align: right;\">\n",
       "      <th></th>\n",
       "      <th>class_id</th>\n",
       "      <th>class_name</th>\n",
       "      <th>class_description</th>\n",
       "    </tr>\n",
       "  </thead>\n",
       "  <tbody>\n",
       "    <tr>\n",
       "      <th>0</th>\n",
       "      <td>I1</td>\n",
       "      <td>Inform</td>\n",
       "      <td>The user is providing a piece of information</td>\n",
       "    </tr>\n",
       "    <tr>\n",
       "      <th>1</th>\n",
       "      <td>R1</td>\n",
       "      <td>Request</td>\n",
       "      <td>The user is requesting something</td>\n",
       "    </tr>\n",
       "    <tr>\n",
       "      <th>2</th>\n",
       "      <td>Q1</td>\n",
       "      <td>Question</td>\n",
       "      <td>The user is asking a question to gain information</td>\n",
       "    </tr>\n",
       "    <tr>\n",
       "      <th>3</th>\n",
       "      <td>C1</td>\n",
       "      <td>Command</td>\n",
       "      <td>The user is giving a command or directive</td>\n",
       "    </tr>\n",
       "    <tr>\n",
       "      <th>4</th>\n",
       "      <td>A1</td>\n",
       "      <td>Agreement</td>\n",
       "      <td>The user is agreeing with something that has b...</td>\n",
       "    </tr>\n",
       "    <tr>\n",
       "      <th>5</th>\n",
       "      <td>D1</td>\n",
       "      <td>Disagreement</td>\n",
       "      <td>The user is disagreeing with something that ha...</td>\n",
       "    </tr>\n",
       "    <tr>\n",
       "      <th>6</th>\n",
       "      <td>T1</td>\n",
       "      <td>Thanks</td>\n",
       "      <td>The user is expressing gratitude</td>\n",
       "    </tr>\n",
       "    <tr>\n",
       "      <th>7</th>\n",
       "      <td>Ap1</td>\n",
       "      <td>Apology</td>\n",
       "      <td>The user is apologizing for an action or state...</td>\n",
       "    </tr>\n",
       "    <tr>\n",
       "      <th>8</th>\n",
       "      <td>S1</td>\n",
       "      <td>Suggestion</td>\n",
       "      <td>The user is suggesting a course of action</td>\n",
       "    </tr>\n",
       "    <tr>\n",
       "      <th>9</th>\n",
       "      <td>F1</td>\n",
       "      <td>Feedback</td>\n",
       "      <td>The user is providing feedback or evaluation</td>\n",
       "    </tr>\n",
       "  </tbody>\n",
       "</table>\n",
       "</div>"
      ],
      "text/plain": [
       "  class_id    class_name                                  class_description\n",
       "0       I1        Inform       The user is providing a piece of information\n",
       "1       R1       Request                   The user is requesting something\n",
       "2       Q1      Question  The user is asking a question to gain information\n",
       "3       C1       Command          The user is giving a command or directive\n",
       "4       A1     Agreement  The user is agreeing with something that has b...\n",
       "5       D1  Disagreement  The user is disagreeing with something that ha...\n",
       "6       T1        Thanks                   The user is expressing gratitude\n",
       "7      Ap1       Apology  The user is apologizing for an action or state...\n",
       "8       S1    Suggestion          The user is suggesting a course of action\n",
       "9       F1      Feedback       The user is providing feedback or evaluation"
      ]
     },
     "execution_count": 5,
     "metadata": {},
     "output_type": "execute_result"
    }
   ],
   "source": [
    "import pandas as pd\n",
    "classes = pd.DataFrame(data['classes'])\n",
    "classes"
   ]
  },
  {
   "cell_type": "code",
   "execution_count": 6,
   "metadata": {},
   "outputs": [
    {
     "data": {
      "text/html": [
       "<div>\n",
       "<style scoped>\n",
       "    .dataframe tbody tr th:only-of-type {\n",
       "        vertical-align: middle;\n",
       "    }\n",
       "\n",
       "    .dataframe tbody tr th {\n",
       "        vertical-align: top;\n",
       "    }\n",
       "\n",
       "    .dataframe thead th {\n",
       "        text-align: right;\n",
       "    }\n",
       "</style>\n",
       "<table border=\"1\" class=\"dataframe\">\n",
       "  <thead>\n",
       "    <tr style=\"text-align: right;\">\n",
       "      <th></th>\n",
       "      <th>query</th>\n",
       "      <th>class_id</th>\n",
       "      <th>result</th>\n",
       "      <th>reasoning</th>\n",
       "    </tr>\n",
       "  </thead>\n",
       "  <tbody>\n",
       "    <tr>\n",
       "      <th>0</th>\n",
       "      <td>I'm going to Tottenham Court Road, can you tel...</td>\n",
       "      <td>[I1, R1]</td>\n",
       "      <td>[R1, Q1]</td>\n",
       "      <td>- Class ID 'R1': The user is requesting inform...</td>\n",
       "    </tr>\n",
       "    <tr>\n",
       "      <th>1</th>\n",
       "      <td>What time does the store close?</td>\n",
       "      <td>[Q1]</td>\n",
       "      <td>[Q1]</td>\n",
       "      <td>- Class ID 'Q1': The user asked a question see...</td>\n",
       "    </tr>\n",
       "    <tr>\n",
       "      <th>2</th>\n",
       "      <td>Please turn off the lights before you leave.</td>\n",
       "      <td>[C1]</td>\n",
       "      <td>[C1]</td>\n",
       "      <td>- Class ID 'C1': The user is giving a command ...</td>\n",
       "    </tr>\n",
       "    <tr>\n",
       "      <th>3</th>\n",
       "      <td>Yes, I think that's a great idea!</td>\n",
       "      <td>[A1]</td>\n",
       "      <td>[A1]</td>\n",
       "      <td>- Class ID 'A1': The model identified an agree...</td>\n",
       "    </tr>\n",
       "    <tr>\n",
       "      <th>4</th>\n",
       "      <td>Actually, I don't think that's how it works.</td>\n",
       "      <td>[D1]</td>\n",
       "      <td>[D1]</td>\n",
       "      <td>- Class ID 'D1': The model identified disagree...</td>\n",
       "    </tr>\n",
       "    <tr>\n",
       "      <th>5</th>\n",
       "      <td>Thank you so much for your help!</td>\n",
       "      <td>[T1]</td>\n",
       "      <td>[T1]</td>\n",
       "      <td>- Class ID 'T1': The user expressed gratitude ...</td>\n",
       "    </tr>\n",
       "    <tr>\n",
       "      <th>6</th>\n",
       "      <td>I'm really sorry for being late.</td>\n",
       "      <td>[Ap1]</td>\n",
       "      <td>[Ap1]</td>\n",
       "      <td>- Class ID 'Ap1': The model identified an apol...</td>\n",
       "    </tr>\n",
       "    <tr>\n",
       "      <th>7</th>\n",
       "      <td>Maybe you should try restarting your computer.</td>\n",
       "      <td>[S1]</td>\n",
       "      <td>[C1, S1]</td>\n",
       "      <td>- Class ID 'C1': The user is giving a command ...</td>\n",
       "    </tr>\n",
       "    <tr>\n",
       "      <th>8</th>\n",
       "      <td>I found the presentation very informative and ...</td>\n",
       "      <td>[F1]</td>\n",
       "      <td>[F1]</td>\n",
       "      <td>- Class ID 'F1': The user found the presentati...</td>\n",
       "    </tr>\n",
       "    <tr>\n",
       "      <th>9</th>\n",
       "      <td>Is this the best method to solve the problem, ...</td>\n",
       "      <td>[Q1, S1]</td>\n",
       "      <td>[Q1, S1]</td>\n",
       "      <td>- Class ID 'Q1': The user is asking a question...</td>\n",
       "    </tr>\n",
       "    <tr>\n",
       "      <th>10</th>\n",
       "      <td>Sorry for the misunderstanding, and thank you ...</td>\n",
       "      <td>[Ap1, T1]</td>\n",
       "      <td>[T1]</td>\n",
       "      <td>- Class ID 'T1': The user expressed gratitude ...</td>\n",
       "    </tr>\n",
       "    <tr>\n",
       "      <th>11</th>\n",
       "      <td>I don't agree, but I'll do it anyway.</td>\n",
       "      <td>[D1, C1]</td>\n",
       "      <td>[C1, D1]</td>\n",
       "      <td>- Class ID 'C1': The user is giving a command ...</td>\n",
       "    </tr>\n",
       "    <tr>\n",
       "      <th>12</th>\n",
       "      <td>Dear Team, As you're aware, we've been facing ...</td>\n",
       "      <td>[I1, S1, F1]</td>\n",
       "      <td>[S1]</td>\n",
       "      <td>- Class ID 'S1': The user suggested exploring ...</td>\n",
       "    </tr>\n",
       "    <tr>\n",
       "      <th>13</th>\n",
       "      <td>Hello, I hope this message finds you well. I'm...</td>\n",
       "      <td>[R1, Q1]</td>\n",
       "      <td>[]</td>\n",
       "      <td>The model found no acceptable classifications</td>\n",
       "    </tr>\n",
       "    <tr>\n",
       "      <th>14</th>\n",
       "      <td>To whom it may concern, I regret to inform you...</td>\n",
       "      <td>[I1, Ap1]</td>\n",
       "      <td>[Ap1]</td>\n",
       "      <td>- Class ID 'Ap1': The user is apologizing for ...</td>\n",
       "    </tr>\n",
       "    <tr>\n",
       "      <th>15</th>\n",
       "      <td>Hi, I wanted to express my gratitude for your ...</td>\n",
       "      <td>[T1, Ap1, F1]</td>\n",
       "      <td>[T1, F1, Ap1]</td>\n",
       "      <td>- Class ID 'T1': The user is expressing gratit...</td>\n",
       "    </tr>\n",
       "  </tbody>\n",
       "</table>\n",
       "</div>"
      ],
      "text/plain": [
       "                                                query       class_id  \\\n",
       "0   I'm going to Tottenham Court Road, can you tel...       [I1, R1]   \n",
       "1                     What time does the store close?           [Q1]   \n",
       "2        Please turn off the lights before you leave.           [C1]   \n",
       "3                   Yes, I think that's a great idea!           [A1]   \n",
       "4        Actually, I don't think that's how it works.           [D1]   \n",
       "5                    Thank you so much for your help!           [T1]   \n",
       "6                    I'm really sorry for being late.          [Ap1]   \n",
       "7      Maybe you should try restarting your computer.           [S1]   \n",
       "8   I found the presentation very informative and ...           [F1]   \n",
       "9   Is this the best method to solve the problem, ...       [Q1, S1]   \n",
       "10  Sorry for the misunderstanding, and thank you ...      [Ap1, T1]   \n",
       "11              I don't agree, but I'll do it anyway.       [D1, C1]   \n",
       "12  Dear Team, As you're aware, we've been facing ...   [I1, S1, F1]   \n",
       "13  Hello, I hope this message finds you well. I'm...       [R1, Q1]   \n",
       "14  To whom it may concern, I regret to inform you...      [I1, Ap1]   \n",
       "15  Hi, I wanted to express my gratitude for your ...  [T1, Ap1, F1]   \n",
       "\n",
       "           result                                          reasoning  \n",
       "0        [R1, Q1]  - Class ID 'R1': The user is requesting inform...  \n",
       "1            [Q1]  - Class ID 'Q1': The user asked a question see...  \n",
       "2            [C1]  - Class ID 'C1': The user is giving a command ...  \n",
       "3            [A1]  - Class ID 'A1': The model identified an agree...  \n",
       "4            [D1]  - Class ID 'D1': The model identified disagree...  \n",
       "5            [T1]  - Class ID 'T1': The user expressed gratitude ...  \n",
       "6           [Ap1]  - Class ID 'Ap1': The model identified an apol...  \n",
       "7        [C1, S1]  - Class ID 'C1': The user is giving a command ...  \n",
       "8            [F1]  - Class ID 'F1': The user found the presentati...  \n",
       "9        [Q1, S1]  - Class ID 'Q1': The user is asking a question...  \n",
       "10           [T1]  - Class ID 'T1': The user expressed gratitude ...  \n",
       "11       [C1, D1]  - Class ID 'C1': The user is giving a command ...  \n",
       "12           [S1]  - Class ID 'S1': The user suggested exploring ...  \n",
       "13             []      The model found no acceptable classifications  \n",
       "14          [Ap1]  - Class ID 'Ap1': The user is apologizing for ...  \n",
       "15  [T1, F1, Ap1]  - Class ID 'T1': The user is expressing gratit...  "
      ]
     },
     "execution_count": 6,
     "metadata": {},
     "output_type": "execute_result"
    }
   ],
   "source": [
    "import pandas as pd\n",
    "classes = pd.DataFrame(data['classes'])\n",
    "queries = pd.DataFrame(data['queries'])\n",
    "multilabel = data['options']['multilabel']\n",
    "output = queries.merge(pd.DataFrame(processed_queries),left_index=True, right_index=True)\n",
    "output"
   ]
  },
  {
   "cell_type": "code",
   "execution_count": 7,
   "metadata": {},
   "outputs": [
    {
     "name": "stdout",
     "output_type": "stream",
     "text": [
      "Query: I'm going to Tottenham Court Road, can you tell me how to get there?\n",
      "Expected response: I1  | Expected class name: ['Inform'] | Expected class description: ['The user is providing a piece of information']\n",
      "Expected response: R1  | Expected class name: ['Request'] | Expected class description: ['The user is requesting something']\n",
      "Predicted response: R1  | Predicted class name: ['Request'] | Predicted class description: ['The user is requesting something']\n",
      "Predicted response: Q1  | Predicted class name: ['Question'] | Predicted class description: ['The user is asking a question to gain information']\n",
      "Predicted reason: - Class ID 'R1': The user is requesting information on how to get to Tottenham Court Road.\n",
      "- Class ID 'Q1': The user is asking for directions or guidance on how to reach Tottenham Court Road.\n"
     ]
    }
   ],
   "source": [
    "i=0\n",
    "print('Query:',output.iloc[i].query)\n",
    "for cs in output.iloc[i].class_id:\n",
    "    print('Expected response:', cs, ' | Expected class name:',classes[classes.class_id==cs].class_name.values, '| Expected class description:', classes[classes.class_id==cs].class_description.values)\n",
    "for cs in output.iloc[i].result:\n",
    "    print('Predicted response:', cs, ' | Predicted class name:',classes[classes.class_id==cs].class_name.values, '| Predicted class description:', classes[classes.class_id==cs].class_description.values)\n",
    "print('Predicted reason:',output.iloc[i].reasoning)\n"
   ]
  },
  {
   "cell_type": "code",
   "execution_count": null,
   "metadata": {},
   "outputs": [],
   "source": []
  }
 ],
 "metadata": {
  "kernelspec": {
   "display_name": "classification_app",
   "language": "python",
   "name": "python3"
  },
  "language_info": {
   "codemirror_mode": {
    "name": "ipython",
    "version": 3
   },
   "file_extension": ".py",
   "mimetype": "text/x-python",
   "name": "python",
   "nbconvert_exporter": "python",
   "pygments_lexer": "ipython3",
   "version": "3.11.8"
  }
 },
 "nbformat": 4,
 "nbformat_minor": 2
}
